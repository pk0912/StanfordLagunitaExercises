{
 "cells": [
  {
   "cell_type": "code",
   "execution_count": 1,
   "metadata": {},
   "outputs": [
    {
     "name": "stderr",
     "output_type": "stream",
     "text": [
      "/Users/praveenkumar/miniconda3/envs/main_py37/lib/python3.7/importlib/_bootstrap.py:219: RuntimeWarning: numpy.ufunc size changed, may indicate binary incompatibility. Expected 192 from C header, got 216 from PyObject\n",
      "  return f(*args, **kwds)\n",
      "/Users/praveenkumar/miniconda3/envs/main_py37/lib/python3.7/importlib/_bootstrap.py:219: RuntimeWarning: numpy.ufunc size changed, may indicate binary incompatibility. Expected 192 from C header, got 216 from PyObject\n",
      "  return f(*args, **kwds)\n",
      "/Users/praveenkumar/miniconda3/envs/main_py37/lib/python3.7/importlib/_bootstrap.py:219: RuntimeWarning: numpy.ufunc size changed, may indicate binary incompatibility. Expected 192 from C header, got 216 from PyObject\n",
      "  return f(*args, **kwds)\n"
     ]
    }
   ],
   "source": [
    "import numpy as np\n",
    "from scipy.stats import binom"
   ]
  },
  {
   "cell_type": "markdown",
   "metadata": {},
   "source": [
    "#### Scenario : A multiple choice test has 10 questions, each with 5 possible answers, only one of which is correct. A student who did not study is absolutely clueless, and therefore uses an independent random guess to answer each of the 10 questions.\n",
    "#### Let X be the number of questions the student gets right."
   ]
  },
  {
   "cell_type": "markdown",
   "metadata": {},
   "source": [
    "#### X is a binomial random variable with n = 10, and p = 0.2\n",
    "#### Why X is binomial ?\n",
    "1. Fixed number of trials (n=10)\n",
    "2. All trials are independent.\n",
    "3. Only two outcomes (Either student gets the question right or wrong)\n",
    "4. Probability of success in each trial is same (p = 0.2)\n",
    "\n",
    "#### Here X can take values from 0 to 10 (either no question gets right or all gets right or in between these two cases)"
   ]
  },
  {
   "cell_type": "markdown",
   "metadata": {},
   "source": [
    "#### Problem 1 : What is the probability that the student will get no more than 4 questions right, P(X ≤ 4)?"
   ]
  },
  {
   "cell_type": "markdown",
   "metadata": {},
   "source": [
    "#### Here we will use Scipy's binom method (It calculates CDF i.e Cumulative Distribution Function for the different values of X)"
   ]
  },
  {
   "cell_type": "code",
   "execution_count": 20,
   "metadata": {},
   "outputs": [],
   "source": [
    "X_cdf = binom(10, 0.2)"
   ]
  },
  {
   "cell_type": "markdown",
   "metadata": {},
   "source": [
    "#### Solution 1 : Since the problem is asking that student should not get more than 4 question right, that means X should take value between 0 and 4 i.e. 0,1,2,3 and 4. So, we will just pass 4 to the cdf method of the binom values (It will calculate cumulative probability of 0 to 4)"
   ]
  },
  {
   "cell_type": "code",
   "execution_count": 21,
   "metadata": {},
   "outputs": [
    {
     "data": {
      "text/plain": [
       "0.9672065024000001"
      ]
     },
     "execution_count": 21,
     "metadata": {},
     "output_type": "execute_result"
    }
   ],
   "source": [
    "X_4 = X_cdf.cdf(4)\n",
    "X_4"
   ]
  },
  {
   "cell_type": "markdown",
   "metadata": {},
   "source": [
    "#### Problem 2 : What is the probability that the student gets more than 2 questions right: P(X > 2)?"
   ]
  },
  {
   "cell_type": "markdown",
   "metadata": {},
   "source": [
    "#### Solution 2 : Since the problem is asking that the student should get more than 2 questions right, that means X should take value between 3 and 10 i.e. 3,4,5,6,7,8,9, and 10. So we need to first pass the value of 2 in the cdf method of the binom value and then do the same with value 10. And then we need to take the difference between these two. This will give the probability for getting more than 2 questions right."
   ]
  },
  {
   "cell_type": "code",
   "execution_count": 22,
   "metadata": {},
   "outputs": [
    {
     "name": "stdout",
     "output_type": "stream",
     "text": [
      "0.3222004735999999\n"
     ]
    }
   ],
   "source": [
    "print(X_cdf.cdf(10) - X_cdf.cdf(2))"
   ]
  },
  {
   "cell_type": "code",
   "execution_count": null,
   "metadata": {},
   "outputs": [],
   "source": []
  }
 ],
 "metadata": {
  "kernelspec": {
   "display_name": "Python 3",
   "language": "python",
   "name": "python3"
  },
  "language_info": {
   "codemirror_mode": {
    "name": "ipython",
    "version": 3
   },
   "file_extension": ".py",
   "mimetype": "text/x-python",
   "name": "python",
   "nbconvert_exporter": "python",
   "pygments_lexer": "ipython3",
   "version": "3.7.3"
  }
 },
 "nbformat": 4,
 "nbformat_minor": 2
}

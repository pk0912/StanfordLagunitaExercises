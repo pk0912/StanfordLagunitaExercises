{
 "cells": [
  {
   "cell_type": "code",
   "execution_count": 2,
   "metadata": {},
   "outputs": [],
   "source": [
    "import numpy as np\n",
    "from scipy.stats import binom, norm"
   ]
  },
  {
   "cell_type": "markdown",
   "metadata": {},
   "source": [
    "### Discrete Random Variable : Binomial Random Variable"
   ]
  },
  {
   "cell_type": "markdown",
   "metadata": {},
   "source": [
    "#### Scenario : A multiple choice test has 10 questions, each with 5 possible answers, only one of which is correct. A student who did not study is absolutely clueless, and therefore uses an independent random guess to answer each of the 10 questions.\n",
    "#### Let X be the number of questions the student gets right."
   ]
  },
  {
   "cell_type": "markdown",
   "metadata": {},
   "source": [
    "#### X is a binomial random variable with n = 10, and p = 0.2\n",
    "#### Why X is binomial ?\n",
    "1. Fixed number of trials (n=10)\n",
    "2. All trials are independent.\n",
    "3. Only two outcomes (Either student gets the question right or wrong)\n",
    "4. Probability of success in each trial is same (p = 0.2)\n",
    "\n",
    "#### Here X can take values from 0 to 10 (either no question gets right or all gets right or in between these two cases)"
   ]
  },
  {
   "cell_type": "markdown",
   "metadata": {},
   "source": [
    "#### Problem 1 : What is the probability that the student will get no more than 4 questions right, P(X ≤ 4)?"
   ]
  },
  {
   "cell_type": "markdown",
   "metadata": {},
   "source": [
    "#### Here we will use Scipy's binom method (It calculates CDF i.e Cumulative Distribution Function for the different values of X)"
   ]
  },
  {
   "cell_type": "code",
   "execution_count": 20,
   "metadata": {},
   "outputs": [],
   "source": [
    "X_cdf = binom(10, 0.2)"
   ]
  },
  {
   "cell_type": "markdown",
   "metadata": {},
   "source": [
    "#### Solution 1 : Since the problem is asking that student should not get more than 4 question right, that means X should take value between 0 and 4 i.e. 0,1,2,3 and 4. So, we will just pass 4 to the cdf method of the binom values (It will calculate cumulative probability of 0 to 4)"
   ]
  },
  {
   "cell_type": "code",
   "execution_count": 21,
   "metadata": {},
   "outputs": [
    {
     "data": {
      "text/plain": [
       "0.9672065024000001"
      ]
     },
     "execution_count": 21,
     "metadata": {},
     "output_type": "execute_result"
    }
   ],
   "source": [
    "X_4 = X_cdf.cdf(4)\n",
    "X_4"
   ]
  },
  {
   "cell_type": "markdown",
   "metadata": {},
   "source": [
    "#### Problem 2 : What is the probability that the student gets more than 2 questions right: P(X > 2)?"
   ]
  },
  {
   "cell_type": "markdown",
   "metadata": {},
   "source": [
    "#### Solution 2 : Since the problem is asking that the student should get more than 2 questions right, that means X should take value between 3 and 10 i.e. 3,4,5,6,7,8,9, and 10. So we need to first pass the value of 2 in the cdf method of the binom value and then do the same with value 10. And then we need to take the difference between these two. This will give the probability for getting more than 2 questions right."
   ]
  },
  {
   "cell_type": "code",
   "execution_count": 22,
   "metadata": {},
   "outputs": [
    {
     "name": "stdout",
     "output_type": "stream",
     "text": [
      "0.3222004735999999\n"
     ]
    }
   ],
   "source": [
    "print(X_cdf.cdf(10) - X_cdf.cdf(2))"
   ]
  },
  {
   "cell_type": "markdown",
   "metadata": {},
   "source": [
    "### Continuous Random Variable"
   ]
  },
  {
   "cell_type": "markdown",
   "metadata": {},
   "source": [
    "#### Finding z-score given probability"
   ]
  },
  {
   "cell_type": "code",
   "execution_count": 11,
   "metadata": {},
   "outputs": [
    {
     "data": {
      "text/plain": [
       "2.0496356380817193"
      ]
     },
     "execution_count": 11,
     "metadata": {},
     "output_type": "execute_result"
    }
   ],
   "source": [
    "norm.ppf(.9798)"
   ]
  },
  {
   "cell_type": "markdown",
   "metadata": {},
   "source": [
    "#### FInding probability given z-score"
   ]
  },
  {
   "cell_type": "code",
   "execution_count": 14,
   "metadata": {},
   "outputs": [
    {
     "data": {
      "text/plain": [
       "0.9798"
      ]
     },
     "execution_count": 14,
     "metadata": {},
     "output_type": "execute_result"
    }
   ],
   "source": [
    "norm.cdf(2.0496356380817193)"
   ]
  },
  {
   "cell_type": "markdown",
   "metadata": {},
   "source": [
    "#### Problem 1 : Adult male height (X) follows (approximately) a normal distribution with a mean of 69 inches and a standard deviation of 2.8 inches. (a) What proportion of males are less than 65 inches tall? In other words, what is P(X < 65)? (b) What proportion of males are more than 75 inches tall? In other words, what is P(X > 75)? (c) What proportion of males are between 66 and 72 inches tall? In other words, what is P(66 < X < 72)?"
   ]
  },
  {
   "cell_type": "markdown",
   "metadata": {},
   "source": [
    "#### Solution 1: Here values (continuous random values) are given. So, first we need to standardize (finding z-score : z-score = (x - mean) / sd ) that. Then look for the probability using norm.cdf function (Since its cumulative value and it gives less than value we need to adjust the scenario according to the question if scenario of more than or anything else comes)"
   ]
  },
  {
   "cell_type": "code",
   "execution_count": 48,
   "metadata": {},
   "outputs": [],
   "source": [
    "def cal_z_score(mean, sd, x):\n",
    "    return (x - mean) / sd\n",
    "    \n",
    "def cal_normal_value(mean, sd, z):\n",
    "    return (sd * z) + mean\n",
    "    \n",
    "def get_z_score_from_prob(prob):\n",
    "    return norm.ppf(prob)\n",
    "\n",
    "def get_prob_from_z_score(z):\n",
    "    return norm.cdf(z)"
   ]
  },
  {
   "cell_type": "code",
   "execution_count": 49,
   "metadata": {},
   "outputs": [
    {
     "data": {
      "text/plain": [
       "[0.07656372550983476,\n",
       " 0.9839377143961717,\n",
       " 0.14198838587545587,\n",
       " 0.8580116141245442]"
      ]
     },
     "execution_count": 49,
     "metadata": {},
     "output_type": "execute_result"
    }
   ],
   "source": [
    "mean_height = 69.0\n",
    "sd_height = 2.8\n",
    "x = [65, 75, 66, 72]\n",
    "z = []\n",
    "p = []\n",
    "for i in x:\n",
    "    p.append(get_prob_from_z_score(cal_z_score(mean_height, sd_height, i)))\n",
    "p"
   ]
  },
  {
   "cell_type": "code",
   "execution_count": 30,
   "metadata": {},
   "outputs": [
    {
     "data": {
      "text/plain": [
       "7.656372550983476"
      ]
     },
     "execution_count": 30,
     "metadata": {},
     "output_type": "execute_result"
    }
   ],
   "source": [
    "# Answer for part a:\n",
    "p[0] * 100"
   ]
  },
  {
   "cell_type": "code",
   "execution_count": 31,
   "metadata": {},
   "outputs": [
    {
     "data": {
      "text/plain": [
       "1.6062285603828275"
      ]
     },
     "execution_count": 31,
     "metadata": {},
     "output_type": "execute_result"
    }
   ],
   "source": [
    "# Answer for part b:\n",
    "(1 - p[1]) * 100"
   ]
  },
  {
   "cell_type": "code",
   "execution_count": 32,
   "metadata": {},
   "outputs": [
    {
     "data": {
      "text/plain": [
       "71.60232282490884"
      ]
     },
     "execution_count": 32,
     "metadata": {},
     "output_type": "execute_result"
    }
   ],
   "source": [
    "# Answer for part c:\n",
    "(p[3] - p[2]) * 100"
   ]
  },
  {
   "cell_type": "markdown",
   "metadata": {},
   "source": [
    "#### Problem 2 : Recall that adult male height follows a normal distribution with a mean of 69 inches and a standard deviation of 2.8 inches. (a) How tall must a male be in order to be among the shortest 0.5% of males? (b) How tall must a male be in order to be among the tallest 0.25% of males?"
   ]
  },
  {
   "cell_type": "markdown",
   "metadata": {},
   "source": [
    "#### Solution 2 : Here probabilities are given. And we need to find the normal value. For that we first get the z-score using norm.ppf() function. Then using that to unstandardize it (x = sd * z-score + mean)"
   ]
  },
  {
   "cell_type": "code",
   "execution_count": 45,
   "metadata": {},
   "outputs": [],
   "source": [
    "given_p = [0.005, 1 - 0.0025]"
   ]
  },
  {
   "cell_type": "code",
   "execution_count": 46,
   "metadata": {},
   "outputs": [
    {
     "data": {
      "text/plain": [
       "61.78767795006308"
      ]
     },
     "execution_count": 46,
     "metadata": {},
     "output_type": "execute_result"
    }
   ],
   "source": [
    "# Answer for part a:\n",
    "cal_normal_value(mean_height, sd_height, get_z_score_from_prob(given_p[0]))"
   ]
  },
  {
   "cell_type": "code",
   "execution_count": 47,
   "metadata": {},
   "outputs": [
    {
     "data": {
      "text/plain": [
       "76.85969455136267"
      ]
     },
     "execution_count": 47,
     "metadata": {},
     "output_type": "execute_result"
    }
   ],
   "source": [
    "# Answer for part b:\n",
    "cal_normal_value(mean_height, sd_height, get_z_score_from_prob(given_p[1]))"
   ]
  },
  {
   "cell_type": "code",
   "execution_count": null,
   "metadata": {},
   "outputs": [],
   "source": []
  }
 ],
 "metadata": {
  "kernelspec": {
   "display_name": "Python 3",
   "language": "python",
   "name": "python3"
  },
  "language_info": {
   "codemirror_mode": {
    "name": "ipython",
    "version": 3
   },
   "file_extension": ".py",
   "mimetype": "text/x-python",
   "name": "python",
   "nbconvert_exporter": "python",
   "pygments_lexer": "ipython3",
   "version": "3.7.3"
  }
 },
 "nbformat": 4,
 "nbformat_minor": 2
}
